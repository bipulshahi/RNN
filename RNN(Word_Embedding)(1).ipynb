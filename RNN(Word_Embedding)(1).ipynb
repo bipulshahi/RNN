{
  "nbformat": 4,
  "nbformat_minor": 0,
  "metadata": {
    "colab": {
      "provenance": []
    },
    "kernelspec": {
      "name": "python3",
      "display_name": "Python 3"
    },
    "language_info": {
      "name": "python"
    }
  },
  "cells": [
    {
      "cell_type": "markdown",
      "source": [
        "**Integer Embedding**"
      ],
      "metadata": {
        "id": "M_-crCRgaio8"
      }
    },
    {
      "cell_type": "code",
      "execution_count": null,
      "metadata": {
        "id": "_wYYX2mKacFu"
      },
      "outputs": [],
      "source": [
        "import numpy as np\n",
        "mycorpus = [\"I am playing cricket\",\"He is playing football\"]"
      ]
    },
    {
      "cell_type": "code",
      "source": [
        "import keras\n",
        "from keras.preprocessing.text import Tokenizer\n",
        "mytokenizer = Tokenizer()"
      ],
      "metadata": {
        "id": "sDcXNJouauYp"
      },
      "execution_count": null,
      "outputs": []
    },
    {
      "cell_type": "code",
      "source": [
        "mytokenizer.fit_on_texts(mycorpus)"
      ],
      "metadata": {
        "id": "l70qx9S4a5td"
      },
      "execution_count": null,
      "outputs": []
    },
    {
      "cell_type": "code",
      "source": [
        "mytokenizer.word_index"
      ],
      "metadata": {
        "colab": {
          "base_uri": "https://localhost:8080/"
        },
        "id": "VOY8WIyibAg3",
        "outputId": "9bb9caef-8edc-4056-c8de-0f108487bbeb"
      },
      "execution_count": null,
      "outputs": [
        {
          "output_type": "execute_result",
          "data": {
            "text/plain": [
              "{'playing': 1, 'i': 2, 'am': 3, 'cricket': 4, 'he': 5, 'is': 6, 'football': 7}"
            ]
          },
          "metadata": {},
          "execution_count": 82
        }
      ]
    },
    {
      "cell_type": "code",
      "source": [
        "mysequences = mytokenizer.texts_to_sequences(mycorpus)\n",
        "mysequences"
      ],
      "metadata": {
        "colab": {
          "base_uri": "https://localhost:8080/"
        },
        "id": "DoXcobiVbGac",
        "outputId": "ca394333-b51f-4c49-bfee-906e31e6400b"
      },
      "execution_count": null,
      "outputs": [
        {
          "output_type": "execute_result",
          "data": {
            "text/plain": [
              "[[2, 3, 1, 4], [5, 6, 1, 7]]"
            ]
          },
          "metadata": {},
          "execution_count": 83
        }
      ]
    },
    {
      "cell_type": "markdown",
      "source": [
        "**Keras Embedding**"
      ],
      "metadata": {
        "id": "r2rGK7-Wb6K6"
      }
    },
    {
      "cell_type": "code",
      "source": [
        "from keras.utils import pad_sequences\n",
        "mypaddedsequence = pad_sequences(mysequences , padding = 'post')\n",
        "mypaddedsequence"
      ],
      "metadata": {
        "colab": {
          "base_uri": "https://localhost:8080/"
        },
        "id": "0AFTZx7dbam8",
        "outputId": "e1552eff-24b8-4131-cdfa-cd334f2548b7"
      },
      "execution_count": null,
      "outputs": [
        {
          "output_type": "execute_result",
          "data": {
            "text/plain": [
              "array([[2, 3, 1, 4],\n",
              "       [5, 6, 1, 7]], dtype=int32)"
            ]
          },
          "metadata": {},
          "execution_count": 84
        }
      ]
    },
    {
      "cell_type": "code",
      "source": [
        "from keras import models,layers\n",
        "\n",
        "model = models.Sequential()\n",
        "model.add(layers.Embedding(8, output_dim = 3 , input_length = 4))\n",
        "model.summary()"
      ],
      "metadata": {
        "colab": {
          "base_uri": "https://localhost:8080/"
        },
        "id": "sm-XWV1VcN4s",
        "outputId": "3e8f1570-43b0-4218-960f-93de69a40a87"
      },
      "execution_count": null,
      "outputs": [
        {
          "output_type": "stream",
          "name": "stdout",
          "text": [
            "Model: \"sequential_7\"\n",
            "_________________________________________________________________\n",
            " Layer (type)                Output Shape              Param #   \n",
            "=================================================================\n",
            " embedding_7 (Embedding)     (None, 4, 3)              24        \n",
            "                                                                 \n",
            "=================================================================\n",
            "Total params: 24 (96.00 Byte)\n",
            "Trainable params: 24 (96.00 Byte)\n",
            "Non-trainable params: 0 (0.00 Byte)\n",
            "_________________________________________________________________\n"
          ]
        }
      ]
    },
    {
      "cell_type": "code",
      "source": [
        "model.compile('adam','accuracy')"
      ],
      "metadata": {
        "id": "jXf_66oAd307"
      },
      "execution_count": null,
      "outputs": []
    },
    {
      "cell_type": "code",
      "source": [
        "pred = model.predict(mypaddedsequence)"
      ],
      "metadata": {
        "colab": {
          "base_uri": "https://localhost:8080/"
        },
        "id": "RuCmyCQAfKBY",
        "outputId": "e65aa498-fa7c-4eb7-9066-df8e31b3d913"
      },
      "execution_count": null,
      "outputs": [
        {
          "output_type": "stream",
          "name": "stdout",
          "text": [
            "1/1 [==============================] - 0s 47ms/step\n"
          ]
        }
      ]
    },
    {
      "cell_type": "code",
      "source": [
        "pred"
      ],
      "metadata": {
        "colab": {
          "base_uri": "https://localhost:8080/"
        },
        "id": "q5vd4e_0fQbf",
        "outputId": "7c9763a1-6802-4368-cae2-c1333b8fb4b0"
      },
      "execution_count": null,
      "outputs": [
        {
          "output_type": "execute_result",
          "data": {
            "text/plain": [
              "array([[[-0.04769829,  0.00709621, -0.02049755],\n",
              "        [-0.04878923, -0.02713503,  0.01773972],\n",
              "        [-0.00042593,  0.04070621, -0.02958926],\n",
              "        [-0.0189827 , -0.02779369, -0.03879531]],\n",
              "\n",
              "       [[-0.01368458, -0.01571969, -0.03084691],\n",
              "        [ 0.01435996, -0.01699357, -0.03694355],\n",
              "        [-0.00042593,  0.04070621, -0.02958926],\n",
              "        [-0.02062421,  0.02592236,  0.00896502]]], dtype=float32)"
            ]
          },
          "metadata": {},
          "execution_count": 88
        }
      ]
    },
    {
      "cell_type": "code",
      "source": [
        "print(mycorpus)"
      ],
      "metadata": {
        "colab": {
          "base_uri": "https://localhost:8080/"
        },
        "id": "_ENYDoQUfUMQ",
        "outputId": "88f54ff9-c761-4f38-ccff-4f2b21b78585"
      },
      "execution_count": null,
      "outputs": [
        {
          "output_type": "stream",
          "name": "stdout",
          "text": [
            "['I am playing cricket', 'He is playing football']\n"
          ]
        }
      ]
    },
    {
      "cell_type": "code",
      "source": [
        "print(mytokenizer.word_index)"
      ],
      "metadata": {
        "colab": {
          "base_uri": "https://localhost:8080/"
        },
        "id": "j7xrM_flfc0c",
        "outputId": "0120da38-e5b4-40ae-8ede-29140e80be43"
      },
      "execution_count": null,
      "outputs": [
        {
          "output_type": "stream",
          "name": "stdout",
          "text": [
            "{'playing': 1, 'i': 2, 'am': 3, 'cricket': 4, 'he': 5, 'is': 6, 'football': 7}\n"
          ]
        }
      ]
    },
    {
      "cell_type": "markdown",
      "source": [
        "**Build a Neural Network using these text embedded values to identify a player as cricket or football**"
      ],
      "metadata": {
        "id": "hgo4kO4igeuz"
      }
    },
    {
      "cell_type": "code",
      "source": [
        "import numpy as np\n",
        "sent_levels = np.array([1,0])"
      ],
      "metadata": {
        "id": "P6ymp6jMfYlb"
      },
      "execution_count": null,
      "outputs": []
    },
    {
      "cell_type": "code",
      "source": [
        "predictionmodel = models.Sequential()\n",
        "predictionmodel.add(layers.Embedding(8, output_dim = 3 , input_length = 4))\n",
        "predictionmodel.add(layers.Flatten())\n",
        "predictionmodel.add(layers.Dense(1,activation='sigmoid'))"
      ],
      "metadata": {
        "id": "jVsxKnEqg3ti"
      },
      "execution_count": null,
      "outputs": []
    },
    {
      "cell_type": "code",
      "source": [
        "predictionmodel.compile('adam' , loss = 'binary_crossentropy', metrics=['accuracy'])"
      ],
      "metadata": {
        "id": "ju7DweemhghQ"
      },
      "execution_count": null,
      "outputs": []
    },
    {
      "cell_type": "code",
      "source": [
        "predictionmodel.fit(mypaddedsequence,sent_levels)"
      ],
      "metadata": {
        "colab": {
          "base_uri": "https://localhost:8080/"
        },
        "id": "1tPY-IHfhpIp",
        "outputId": "ff4b3c6d-0286-44c3-86de-ad6beeca1660"
      },
      "execution_count": null,
      "outputs": [
        {
          "output_type": "stream",
          "name": "stdout",
          "text": [
            "1/1 [==============================] - 1s 628ms/step - loss: 0.6926 - accuracy: 1.0000\n"
          ]
        },
        {
          "output_type": "execute_result",
          "data": {
            "text/plain": [
              "<keras.src.callbacks.History at 0x7befec125420>"
            ]
          },
          "metadata": {},
          "execution_count": 94
        }
      ]
    },
    {
      "cell_type": "code",
      "source": [
        "predictionmodel"
      ],
      "metadata": {
        "colab": {
          "base_uri": "https://localhost:8080/"
        },
        "id": "Ws2mM9_ah4j7",
        "outputId": "bc6664ef-83f2-427c-fc2a-bbde615f508e"
      },
      "execution_count": null,
      "outputs": [
        {
          "output_type": "execute_result",
          "data": {
            "text/plain": [
              "<keras.src.engine.sequential.Sequential at 0x7befec138af0>"
            ]
          },
          "metadata": {},
          "execution_count": 95
        }
      ]
    },
    {
      "cell_type": "code",
      "source": [
        "sent_to_predict = ['I am playing cricket']\n",
        "sentseq = mytokenizer.texts_to_sequences(sent_to_predict)\n",
        "pred_data = pad_sequences(sentseq,padding='pre')\n",
        "pred_data"
      ],
      "metadata": {
        "colab": {
          "base_uri": "https://localhost:8080/"
        },
        "id": "evqS2FcwiELu",
        "outputId": "914a8ba6-8d7e-4778-8e18-c24eb7a1f8d8"
      },
      "execution_count": null,
      "outputs": [
        {
          "output_type": "execute_result",
          "data": {
            "text/plain": [
              "array([[2, 3, 1, 4]], dtype=int32)"
            ]
          },
          "metadata": {},
          "execution_count": 98
        }
      ]
    },
    {
      "cell_type": "code",
      "source": [
        "predictions = (predictionmodel.predict(pred_data) > 0.5).astype(\"int32\")\n",
        "predictions"
      ],
      "metadata": {
        "colab": {
          "base_uri": "https://localhost:8080/"
        },
        "id": "ls_QmF-ziWgO",
        "outputId": "02927308-f3bd-4cf6-9c9e-64277ba7271f"
      },
      "execution_count": null,
      "outputs": [
        {
          "output_type": "stream",
          "name": "stdout",
          "text": [
            "1/1 [==============================] - 0s 34ms/step\n"
          ]
        },
        {
          "output_type": "execute_result",
          "data": {
            "text/plain": [
              "array([[1]], dtype=int32)"
            ]
          },
          "metadata": {},
          "execution_count": 99
        }
      ]
    },
    {
      "cell_type": "code",
      "source": [],
      "metadata": {
        "id": "NkUuG-g-iuLJ"
      },
      "execution_count": null,
      "outputs": []
    }
  ]
}